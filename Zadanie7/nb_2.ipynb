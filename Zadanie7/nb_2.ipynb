{
 "cells": [
  {
   "cell_type": "code",
   "execution_count": 77,
   "metadata": {},
   "outputs": [],
   "source": [
    "## Instalowanie modułów\n",
    "\n",
    "# !pip3 install --upgrade pip\n",
    "\n",
    "# !pip3 install -U numpy\n",
    "# !pip3 install -U pandas\n",
    "# !pip3 install -U jinja2\n",
    "# !pip3 install -U scikit-learn"
   ]
  },
  {
   "cell_type": "code",
   "execution_count": 78,
   "metadata": {},
   "outputs": [],
   "source": [
    "## Importowanie modułów\n",
    "\n",
    "import numpy as np\n",
    "import pandas as pd\n",
    "from sklearn.datasets import load_iris\n",
    "from sklearn.model_selection import StratifiedKFold, cross_val_score\n",
    "from sklearn.base import BaseEstimator, ClassifierMixin\n",
    "from sklearn.metrics import accuracy_score, precision_score, recall_score, f1_score\n",
    "\n",
    "## Import do powtórzenia zadania 4\n",
    "from sklearn.tree import DecisionTreeClassifier\n",
    "from sklearn.svm import SVC"
   ]
  },
  {
   "cell_type": "code",
   "execution_count": 79,
   "metadata": {},
   "outputs": [],
   "source": [
    "## Implementacja naiwnego klasyfikatora Bayesa\n",
    "\n",
    "class GaussianNaiveBayes(BaseEstimator, ClassifierMixin):\n",
    "    def fit(self, X, y):\n",
    "        self.classes_ = np.unique(y)\n",
    "        self.class_prior_ = np.zeros(len(self.classes_))\n",
    "        \n",
    "        self.means_ = np.zeros((len(self.classes_), X.shape[1]))    # mu daszkowe\n",
    "        self.vars_ = np.zeros((len(self.classes_), X.shape[1]))     # sigma daszkowe\n",
    "        \n",
    "        for idx, c in enumerate(self.classes_):\n",
    "            X_c = X[y == c]\n",
    "            self.class_prior_[idx] = X_c.shape[0] / X.shape[0]  # P(y=k)\n",
    "            self.means_[idx, :] = X_c.mean(axis=0)\n",
    "            self.vars_[idx, :] = X_c.var(axis=0)\n",
    "        \n",
    "        return self\n",
    "    \n",
    "    def predict(self, X):\n",
    "        return np.array([self._predict_instance(x) for x in X])\n",
    "    \n",
    "    def _predict_instance(self, x):\n",
    "        posteriors = []\n",
    "        for idx, c in enumerate(self.classes_):\n",
    "            prior = np.log(self.class_prior_[idx])\n",
    "            posterior = np.sum(np.log(self._pdf(idx, x)))\n",
    "            posteriors.append(prior + posterior)\n",
    "        return self.classes_[np.argmax(posteriors)]\n",
    "    \n",
    "    def _pdf(self, class_idx, x):\n",
    "        mean = self.means_[class_idx]\n",
    "        var = self.vars_[class_idx]\n",
    "        licznik = np.exp(- (x - mean) ** 2 / (2 * var))\n",
    "        mianownik = np.sqrt(2 * np.pi * var)\n",
    "        return licznik / mianownik\n"
   ]
  },
  {
   "cell_type": "code",
   "execution_count": 80,
   "metadata": {},
   "outputs": [],
   "source": [
    "## Wczytywanie danych o iryskach\n",
    "\n",
    "iris = load_iris()\n",
    "X, y = iris.data, iris.target\n"
   ]
  },
  {
   "cell_type": "code",
   "execution_count": 81,
   "metadata": {},
   "outputs": [],
   "source": [
    "## Ewaluacja\n",
    "\n",
    "def evaluate_model(model, X, y):\n",
    "    skf = StratifiedKFold(n_splits=5)   # kf = KFold(n_splits=5, shuffle=True, random_state=42)\n",
    "    accuracy = cross_val_score(model, X, y, cv=skf, scoring='accuracy')\n",
    "    precision = cross_val_score(model, X, y, cv=skf, scoring='precision_macro')\n",
    "    recall = cross_val_score(model, X, y, cv=skf, scoring='recall_macro')\n",
    "    f1 = cross_val_score(model, X, y, cv=skf, scoring='f1_macro')\n",
    "    \n",
    "    return {\n",
    "        'accuracy': (accuracy.mean(), accuracy.std()),\n",
    "        'precision': (precision.mean(), precision.std()),\n",
    "        'recall': (recall.mean(), recall.std()),\n",
    "        'f1': (f1.mean(), f1.std())\n",
    "    }\n",
    "\n",
    "gnb = GaussianNaiveBayes()\n",
    "gnb_results = evaluate_model(gnb, X, y)\n"
   ]
  },
  {
   "cell_type": "code",
   "execution_count": 82,
   "metadata": {},
   "outputs": [
    {
     "name": "stdout",
     "output_type": "stream",
     "text": [
      "                  Model  Accuracy  Accuracy ±  Precision  Precision ±  \\\n",
      "0  Gaussian Naive Bayes  0.953333    0.026667   0.958384     0.023983   \n",
      "1         Decision Tree  0.960000    0.032660   0.962290     0.032183   \n",
      "2                   SVM  0.980000    0.016330   0.981818     0.014845   \n",
      "\n",
      "     Recall  Recall ±        F1      F1 ±  \n",
      "0  0.953333  0.026667  0.953047  0.026862  \n",
      "1  0.960000  0.032660  0.966583  0.036606  \n",
      "2  0.980000  0.016330  0.979950  0.016371  \n"
     ]
    }
   ],
   "source": [
    "\n",
    "\n",
    "dt = DecisionTreeClassifier()\n",
    "dt_results = evaluate_model(dt, X, y)\n",
    "\n",
    "## Najlepsze parametry z zadania 4\n",
    "svm = SVC(kernel='linear', C=1.0)\n",
    "svm_results = evaluate_model(svm, X, y)\n",
    "\n",
    "# Tabela wyników\n",
    "results_df = pd.DataFrame({\n",
    "    'Model': ['Gaussian Naive Bayes', 'Decision Tree', 'SVM'],\n",
    "    'Accuracy': [gnb_results['accuracy'][0], dt_results['accuracy'][0], svm_results['accuracy'][0]],\n",
    "    'Accuracy ±': [gnb_results['accuracy'][1], dt_results['accuracy'][1], svm_results['accuracy'][1]],\n",
    "    'Precision': [gnb_results['precision'][0], dt_results['precision'][0], svm_results['precision'][0]],\n",
    "    'Precision ±': [gnb_results['precision'][1], dt_results['precision'][1], svm_results['precision'][1]],\n",
    "    'Recall': [gnb_results['recall'][0], dt_results['recall'][0], svm_results['recall'][0]],\n",
    "    'Recall ±': [gnb_results['recall'][1], dt_results['recall'][1], svm_results['recall'][1]],\n",
    "    'F1': [gnb_results['f1'][0], dt_results['f1'][0], svm_results['f1'][0]],\n",
    "    'F1 ±': [gnb_results['f1'][1], dt_results['f1'][1], svm_results['f1'][1]]\n",
    "})\n",
    "\n",
    "print(results_df)\n"
   ]
  },
  {
   "cell_type": "code",
   "execution_count": 83,
   "metadata": {},
   "outputs": [
    {
     "name": "stdout",
     "output_type": "stream",
     "text": [
      "\\begin{tabular}{lrrrrrrrr}\n",
      "\\toprule\n",
      "Model & Accuracy & Accuracy ± & Precision & Precision ± & Recall & Recall ± & F1 & F1 ± \\\\\n",
      "\\midrule\n",
      "Gaussian Naive Bayes & 0.953333 & 0.026667 & 0.958384 & 0.023983 & 0.953333 & 0.026667 & 0.953047 & 0.026862 \\\\\n",
      "Decision Tree & 0.960000 & 0.032660 & 0.962290 & 0.032183 & 0.960000 & 0.032660 & 0.966583 & 0.036606 \\\\\n",
      "SVM & 0.980000 & 0.016330 & 0.981818 & 0.014845 & 0.980000 & 0.016330 & 0.979950 & 0.016371 \\\\\n",
      "\\bottomrule\n",
      "\\end{tabular}\n",
      "\n"
     ]
    }
   ],
   "source": [
    "print(results_df.to_latex(index=False))\n"
   ]
  }
 ],
 "metadata": {
  "kernelspec": {
   "display_name": "zadanie7env",
   "language": "python",
   "name": "python3"
  },
  "language_info": {
   "codemirror_mode": {
    "name": "ipython",
    "version": 3
   },
   "file_extension": ".py",
   "mimetype": "text/x-python",
   "name": "python",
   "nbconvert_exporter": "python",
   "pygments_lexer": "ipython3",
   "version": "3.12.0"
  }
 },
 "nbformat": 4,
 "nbformat_minor": 2
}
